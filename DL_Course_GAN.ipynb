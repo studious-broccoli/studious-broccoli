{
 "cells": [
  {
   "cell_type": "markdown",
   "metadata": {},
   "source": [
    "Code an AutoEncoder using Keras\n",
    "<br> # https://blog.keras.io/building-autoencoders-in-keras.html"
   ]
  },
  {
   "cell_type": "markdown",
   "metadata": {},
   "source": [
    "Import Packages"
   ]
  },
  {
   "cell_type": "code",
   "execution_count": 29,
   "metadata": {},
   "outputs": [],
   "source": [
    "import numpy as np\n",
    "import seaborn as sns\n",
    "import scipy.io as sio\n",
    "import random\n",
    "from matplotlib.pyplot import imshow\n",
    "import matplotlib.pyplot as plt\n",
    "% matplotlib inline\n",
    "\n",
    "# AlexNet Dependencies\n",
    "from tensorflow.python.keras import layers\n",
    "from tensorflow.python.keras.layers import Input, Dropout, Dense, Activation,BatchNormalization, Flatten, Conv2D, LeakyReLU, MaxPooling2D, UpSampling2D\n",
    "from tensorflow.python.keras.optimizers import Adam\n",
    "from tensorflow.python.keras.models import Model, model_from_json\n",
    "from tensorflow.python.keras import backend as K\n",
    "\n",
    "from sklearn.metrics import confusion_matrix"
   ]
  },
  {
   "cell_type": "markdown",
   "metadata": {},
   "source": [
    "Define Helper Functions"
   ]
  },
  {
   "cell_type": "code",
   "execution_count": 11,
   "metadata": {
    "collapsed": true
   },
   "outputs": [],
   "source": [
    "# Converts integer labels into one-hot vectors\n",
    "def to_one_hot(labels, n_classes, p_max = 1.0):\n",
    "    # Calculate the minimum probability of class based on max probability\n",
    "    p_min = 0.0 if p_max == 1.0 else (1.0 - p_max)/(n_classes - 1)\n",
    "\n",
    "    # allocate memory for one hot labels\n",
    "    labels = labels.astype(np.int32)\n",
    "    n_labels = labels.shape[0]\n",
    "    oh_labels = np.full((n_labels, n_classes), p_min)\n",
    "    # minus 1 because Matlab uses 1 based indexing\n",
    "    oh_labels[np.arange(n_labels), labels-1] = p_max\n",
    "    return oh_labels\n",
    "\n",
    "def to_int_label(labels):\n",
    "    int_labels = np.zeros((len(labels),))\n",
    "    for i in range(len(labels)):\n",
    "        int_labels[i] = np.argmax(labels[i])\n",
    "    return int_labels\n",
    "\n",
    "# Convert batch, pixels --> batch, rows, cols, 1_channel\n",
    "def to_img(x):\n",
    "    return np.reshape(x, [-1, im_rows, im_cols, 1])\n",
    "\n",
    "\n",
    "# Restore values from memory (TF also supports restoring from a file)\n",
    "def set_best_vars(sess, best_vars_vals, trainable_vars):\n",
    "    restore_ops = [avar.assign(best_val) for best_val, avar in zip(best_vars_vals, trainable_vars)]\n",
    "    sess.run(restore_ops)"
   ]
  },
  {
   "cell_type": "markdown",
   "metadata": {},
   "source": [
    "Define Constants"
   ]
  },
  {
   "cell_type": "code",
   "execution_count": 12,
   "metadata": {
    "collapsed": true
   },
   "outputs": [],
   "source": [
    "## To speed up validation\n",
    "MAX_VALIDATION_SAMPLES = int(2000) # at most 10,000 in this dataset"
   ]
  },
  {
   "cell_type": "markdown",
   "metadata": {},
   "source": [
    "Import Data"
   ]
  },
  {
   "cell_type": "code",
   "execution_count": 13,
   "metadata": {
    "collapsed": true
   },
   "outputs": [],
   "source": [
    "TRAINING_FILE = '../training.mat'\n",
    "VALIDATION_FILE = '../validation.mat'\n",
    "TESTING_FILE = '../testing.mat'"
   ]
  },
  {
   "cell_type": "code",
   "execution_count": 14,
   "metadata": {},
   "outputs": [
    {
     "name": "stdout",
     "output_type": "stream",
     "text": [
      "Loading Training Data\n",
      "Loading Validation Data\n",
      "Loading Testing Data\n"
     ]
    }
   ],
   "source": [
    "## Data\n",
    "print('Loading Training Data')\n",
    "training_data = sio.loadmat(TRAINING_FILE, squeeze_me=True)\n",
    "training_ims = training_data['data'].T  # .T --> transpose\n",
    "training_labels = training_data['labels']\n",
    "\n",
    "# Validation Data\n",
    "print('Loading Validation Data')\n",
    "validation_data = sio.loadmat(VALIDATION_FILE, squeeze_me=True)\n",
    "validation_ims = validation_data['data'].T\n",
    "validation_labels = validation_data['labels']\n",
    "# Limit our Validation data since we don't really need 10k of them\n",
    "validation_ims = validation_ims[:MAX_VALIDATION_SAMPLES]\n",
    "validation_labels = validation_labels[:MAX_VALIDATION_SAMPLES]\n",
    "\n",
    "\n",
    "# Testing data\n",
    "print('Loading Testing Data')\n",
    "testing_data = sio.loadmat(TESTING_FILE, squeeze_me=True)\n",
    "testing_ims = testing_data['data'].T\n",
    "testing_labels = testing_data['labels']"
   ]
  },
  {
   "cell_type": "markdown",
   "metadata": {},
   "source": [
    "Data Attributes"
   ]
  },
  {
   "cell_type": "code",
   "execution_count": 15,
   "metadata": {},
   "outputs": [
    {
     "name": "stdout",
     "output_type": "stream",
     "text": [
      "Number of Rows/Cols: 28\n",
      "Number of Classes: 10\n"
     ]
    }
   ],
   "source": [
    "## Data attributes (look them up, but are effectively constant)\n",
    "# These could be hard coded, but extracting them from the data anyway\n",
    "im_rows = im_cols = int(np.sqrt(testing_ims.shape[1]))\n",
    "print('Number of Rows/Cols:', im_rows)\n",
    "num_classes = int(np.amax(testing_labels))\n",
    "print('Number of Classes:', num_classes)"
   ]
  },
  {
   "cell_type": "markdown",
   "metadata": {},
   "source": [
    "Data Pre-processing"
   ]
  },
  {
   "cell_type": "code",
   "execution_count": 16,
   "metadata": {},
   "outputs": [
    {
     "name": "stdout",
     "output_type": "stream",
     "text": [
      "Reformating labels to one-hot\n"
     ]
    }
   ],
   "source": [
    "## Data preprocessing\n",
    "print('Reformating labels to one-hot')\n",
    "training_labels   = to_one_hot(training_labels, num_classes)\n",
    "validation_labels = to_one_hot(validation_labels, num_classes)\n",
    "testing_labels    = to_one_hot(testing_labels, num_classes)\n",
    "\n",
    "# print('Reshaping data from [img, pixels] to [img, row, col, channel]')\n",
    "# training_ims   = np.reshape(training_ims, (-1, im_rows, im_cols, 1))\n",
    "# validation_ims = np.reshape(validation_ims, (-1, im_rows, im_cols, 1))\n",
    "# testing_ims    = np.reshape(testing_ims, (-1, im_rows, im_cols, 1))"
   ]
  },
  {
   "cell_type": "code",
   "execution_count": 33,
   "metadata": {},
   "outputs": [
    {
     "data": {
      "text/plain": [
       "(50000, 784)"
      ]
     },
     "execution_count": 33,
     "metadata": {},
     "output_type": "execute_result"
    }
   ],
   "source": [
    "np.shape(training_ims)"
   ]
  },
  {
   "cell_type": "code",
   "execution_count": 43,
   "metadata": {},
   "outputs": [
    {
     "name": "stdout",
     "output_type": "stream",
     "text": [
      "(50000, 28, 28, 1)\n",
      "(2000, 28, 28, 1)\n",
      "(10000, 28, 28, 1)\n"
     ]
    }
   ],
   "source": [
    "x_train = training_ims.astype('float32') / 255.\n",
    "x_val   = validation_ims.astype('float32') / 255.\n",
    "x_test  = testing_ims.astype('float32') / 255.\n",
    "\n",
    "x_train = x_train.reshape((len(x_train),28,28,1))\n",
    "x_val   = x_val.reshape((len(x_val),28,28,1))\n",
    "x_test  = x_test.reshape((len(x_test),28,28,1))\n",
    "print(x_train.shape)\n",
    "print(x_val.shape)\n",
    "print(x_test.shape)"
   ]
  },
  {
   "cell_type": "code",
   "execution_count": 50,
   "metadata": {
    "collapsed": true
   },
   "outputs": [],
   "source": [
    "# select real samples\n",
    "def generate_real_samples(dataset, n_samples):\n",
    "    # choose random instances\n",
    "    ix = randint(0, dataset.shape[0], n_samples)\n",
    "    # retrieve selected images\n",
    "    X = dataset[ix]\n",
    "    # generate 'real' class labels (1)\n",
    "    y = ones((n_samples, 1))\n",
    "    return X, y\n",
    "\n",
    "def generate_fake_samples(n_samples):\n",
    "    # generate uniform random numbers in [0,1]\n",
    "    X = rand(28 * 28 * n_samples)\n",
    "    # reshape into a batch of grayscale images\n",
    "    X = X.reshape((n_samples, 28, 28, 1))\n",
    "    # generate 'fake' class labels (0)\n",
    "    y = zeros((n_samples, 1))\n",
    "    return X, y"
   ]
  },
  {
   "cell_type": "code",
   "execution_count": null,
   "metadata": {
    "collapsed": true
   },
   "outputs": [],
   "source": [
    "half_batch = int(n_batch / 2)"
   ]
  },
  {
   "cell_type": "code",
   "execution_count": null,
   "metadata": {
    "collapsed": true
   },
   "outputs": [],
   "source": []
  },
  {
   "cell_type": "code",
   "execution_count": null,
   "metadata": {
    "collapsed": true
   },
   "outputs": [],
   "source": []
  },
  {
   "cell_type": "code",
   "execution_count": null,
   "metadata": {
    "collapsed": true
   },
   "outputs": [],
   "source": []
  },
  {
   "cell_type": "code",
   "execution_count": 44,
   "metadata": {
    "collapsed": true
   },
   "outputs": [],
   "source": [
    "INPUT_SHAPE = [im_rows,im_cols,1]\n",
    "BATCH_SIZE = int(100)\n",
    "MAX_ITER = int(500000)  # 5 million should be enough\n",
    "WEIGHT_DECAY = 5e-4  # This is what AlexNet used"
   ]
  },
  {
   "cell_type": "markdown",
   "metadata": {},
   "source": [
    "# Discriminator Model"
   ]
  },
  {
   "cell_type": "code",
   "execution_count": 45,
   "metadata": {
    "collapsed": true
   },
   "outputs": [],
   "source": [
    "def Discriminator(input_shape=(28,28,1)):\n",
    "    \n",
    "    # Input Image\n",
    "    X_input = Input(shape=input_shape,name = \"input\")\n",
    "    \n",
    "    X = Conv2D(64, (3,3), strides=(2, 2), padding='same', name=\"conv0\")(X_input)\n",
    "    X = LeakyReLU(alpha=0.2)(X)\n",
    "    X = Dropout(0.4)(X)\n",
    "    \n",
    "    X = Conv2D(64, (3,3), strides=(2, 2), padding='same', name=\"conv1\")(X)\n",
    "    X = LeakyReLU(alpha=0.2)(X)\n",
    "    X = Dropout(0.4)(X)\n",
    "    \n",
    "    X = Flatten()(X)\n",
    "    \n",
    "    X = Dense(1, activation = 'sigmoid', name = \"fc0\")(X)\n",
    "    \n",
    "    # Model that maps input to its reconstruction\n",
    "    model = Model(inputs = X_input, outputs = X, name='discriminator')\n",
    "\n",
    "    return model"
   ]
  },
  {
   "cell_type": "code",
   "execution_count": 46,
   "metadata": {},
   "outputs": [],
   "source": [
    "m = Discriminator()"
   ]
  },
  {
   "cell_type": "code",
   "execution_count": 47,
   "metadata": {},
   "outputs": [
    {
     "name": "stdout",
     "output_type": "stream",
     "text": [
      "_________________________________________________________________\n",
      "Layer (type)                 Output Shape              Param #   \n",
      "=================================================================\n",
      "input (InputLayer)           (None, 28, 28, 1)         0         \n",
      "_________________________________________________________________\n",
      "conv0 (Conv2D)               (None, 14, 14, 64)        640       \n",
      "_________________________________________________________________\n",
      "leaky_re_lu_7 (LeakyReLU)    (None, 14, 14, 64)        0         \n",
      "_________________________________________________________________\n",
      "dropout_6 (Dropout)          (None, 14, 14, 64)        0         \n",
      "_________________________________________________________________\n",
      "conv1 (Conv2D)               (None, 7, 7, 64)          36928     \n",
      "_________________________________________________________________\n",
      "leaky_re_lu_8 (LeakyReLU)    (None, 7, 7, 64)          0         \n",
      "_________________________________________________________________\n",
      "dropout_7 (Dropout)          (None, 7, 7, 64)          0         \n",
      "_________________________________________________________________\n",
      "flatten_3 (Flatten)          (None, 3136)              0         \n",
      "_________________________________________________________________\n",
      "fc0 (Dense)                  (None, 1)                 3137      \n",
      "=================================================================\n",
      "Total params: 40,705\n",
      "Trainable params: 40,705\n",
      "Non-trainable params: 0\n",
      "_________________________________________________________________\n"
     ]
    }
   ],
   "source": [
    "m.summary()"
   ]
  },
  {
   "cell_type": "code",
   "execution_count": 48,
   "metadata": {},
   "outputs": [],
   "source": [
    "m.compile(optimizer = Adam(lr=0.0002, beta_1=0.5) , loss = 'binary_crossentropy' , metrics=['accuracy'])"
   ]
  },
  {
   "cell_type": "code",
   "execution_count": 49,
   "metadata": {
    "scrolled": true
   },
   "outputs": [
    {
     "ename": "ValueError",
     "evalue": "Error when checking target: expected fc0 to have shape (1,) but got array with shape (10,)",
     "output_type": "error",
     "traceback": [
      "\u001b[1;31m---------------------------------------------------------------------------\u001b[0m",
      "\u001b[1;31mValueError\u001b[0m                                Traceback (most recent call last)",
      "\u001b[1;32m<ipython-input-49-2991d6dc30c1>\u001b[0m in \u001b[0;36m<module>\u001b[1;34m()\u001b[0m\n\u001b[0;32m      1\u001b[0m history = m.fit(x_train,training_labels, \n\u001b[0;32m      2\u001b[0m                 \u001b[0mbatch_size\u001b[0m\u001b[1;33m=\u001b[0m\u001b[0mBATCH_SIZE\u001b[0m\u001b[1;33m,\u001b[0m \u001b[0mepochs\u001b[0m\u001b[1;33m=\u001b[0m\u001b[1;36m50\u001b[0m\u001b[1;33m,\u001b[0m\u001b[1;33m\u001b[0m\u001b[0m\n\u001b[1;32m----> 3\u001b[1;33m                 validation_data=(x_val, validation_labels))\n\u001b[0m",
      "\u001b[1;32mC:\\Users\\1130135\\AppData\\Local\\Continuum\\Anaconda3\\lib\\site-packages\\tensorflow\\python\\keras\\engine\\training.py\u001b[0m in \u001b[0;36mfit\u001b[1;34m(self, x, y, batch_size, epochs, verbose, callbacks, validation_split, validation_data, shuffle, class_weight, sample_weight, initial_epoch, steps_per_epoch, validation_steps, max_queue_size, workers, use_multiprocessing, **kwargs)\u001b[0m\n\u001b[0;32m   1534\u001b[0m         \u001b[0msteps_name\u001b[0m\u001b[1;33m=\u001b[0m\u001b[1;34m'steps_per_epoch'\u001b[0m\u001b[1;33m,\u001b[0m\u001b[1;33m\u001b[0m\u001b[0m\n\u001b[0;32m   1535\u001b[0m         \u001b[0msteps\u001b[0m\u001b[1;33m=\u001b[0m\u001b[0msteps_per_epoch\u001b[0m\u001b[1;33m,\u001b[0m\u001b[1;33m\u001b[0m\u001b[0m\n\u001b[1;32m-> 1536\u001b[1;33m         validation_split=validation_split)\n\u001b[0m\u001b[0;32m   1537\u001b[0m \u001b[1;33m\u001b[0m\u001b[0m\n\u001b[0;32m   1538\u001b[0m     \u001b[1;31m# Prepare validation data.\u001b[0m\u001b[1;33m\u001b[0m\u001b[1;33m\u001b[0m\u001b[0m\n",
      "\u001b[1;32mC:\\Users\\1130135\\AppData\\Local\\Continuum\\Anaconda3\\lib\\site-packages\\tensorflow\\python\\keras\\engine\\training.py\u001b[0m in \u001b[0;36m_standardize_user_data\u001b[1;34m(self, x, y, sample_weight, class_weight, batch_size, check_steps, steps_name, steps, validation_split)\u001b[0m\n\u001b[0;32m    990\u001b[0m         \u001b[0mx\u001b[0m\u001b[1;33m,\u001b[0m \u001b[0my\u001b[0m\u001b[1;33m,\u001b[0m \u001b[0msample_weight\u001b[0m \u001b[1;33m=\u001b[0m \u001b[0mnext_element\u001b[0m\u001b[1;33m\u001b[0m\u001b[0m\n\u001b[0;32m    991\u001b[0m     x, y, sample_weights = self._standardize_weights(x, y, sample_weight,\n\u001b[1;32m--> 992\u001b[1;33m                                                      class_weight, batch_size)\n\u001b[0m\u001b[0;32m    993\u001b[0m     \u001b[1;32mreturn\u001b[0m \u001b[0mx\u001b[0m\u001b[1;33m,\u001b[0m \u001b[0my\u001b[0m\u001b[1;33m,\u001b[0m \u001b[0msample_weights\u001b[0m\u001b[1;33m\u001b[0m\u001b[0m\n\u001b[0;32m    994\u001b[0m \u001b[1;33m\u001b[0m\u001b[0m\n",
      "\u001b[1;32mC:\\Users\\1130135\\AppData\\Local\\Continuum\\Anaconda3\\lib\\site-packages\\tensorflow\\python\\keras\\engine\\training.py\u001b[0m in \u001b[0;36m_standardize_weights\u001b[1;34m(self, x, y, sample_weight, class_weight, batch_size)\u001b[0m\n\u001b[0;32m   1152\u001b[0m           \u001b[0mfeed_output_shapes\u001b[0m\u001b[1;33m,\u001b[0m\u001b[1;33m\u001b[0m\u001b[0m\n\u001b[0;32m   1153\u001b[0m           \u001b[0mcheck_batch_axis\u001b[0m\u001b[1;33m=\u001b[0m\u001b[1;32mFalse\u001b[0m\u001b[1;33m,\u001b[0m  \u001b[1;31m# Don't enforce the batch size.\u001b[0m\u001b[1;33m\u001b[0m\u001b[0m\n\u001b[1;32m-> 1154\u001b[1;33m           exception_prefix='target')\n\u001b[0m\u001b[0;32m   1155\u001b[0m \u001b[1;33m\u001b[0m\u001b[0m\n\u001b[0;32m   1156\u001b[0m       \u001b[1;31m# Generate sample-wise weight values given the `sample_weight` and\u001b[0m\u001b[1;33m\u001b[0m\u001b[1;33m\u001b[0m\u001b[0m\n",
      "\u001b[1;32mC:\\Users\\1130135\\AppData\\Local\\Continuum\\Anaconda3\\lib\\site-packages\\tensorflow\\python\\keras\\engine\\training_utils.py\u001b[0m in \u001b[0;36mstandardize_input_data\u001b[1;34m(data, names, shapes, check_batch_axis, exception_prefix)\u001b[0m\n\u001b[0;32m    330\u001b[0m                 \u001b[1;34m'Error when checking '\u001b[0m \u001b[1;33m+\u001b[0m \u001b[0mexception_prefix\u001b[0m \u001b[1;33m+\u001b[0m \u001b[1;34m': expected '\u001b[0m \u001b[1;33m+\u001b[0m\u001b[1;33m\u001b[0m\u001b[0m\n\u001b[0;32m    331\u001b[0m                 \u001b[0mnames\u001b[0m\u001b[1;33m[\u001b[0m\u001b[0mi\u001b[0m\u001b[1;33m]\u001b[0m \u001b[1;33m+\u001b[0m \u001b[1;34m' to have shape '\u001b[0m \u001b[1;33m+\u001b[0m \u001b[0mstr\u001b[0m\u001b[1;33m(\u001b[0m\u001b[0mshape\u001b[0m\u001b[1;33m)\u001b[0m \u001b[1;33m+\u001b[0m\u001b[1;33m\u001b[0m\u001b[0m\n\u001b[1;32m--> 332\u001b[1;33m                 ' but got array with shape ' + str(data_shape))\n\u001b[0m\u001b[0;32m    333\u001b[0m   \u001b[1;32mreturn\u001b[0m \u001b[0mdata\u001b[0m\u001b[1;33m\u001b[0m\u001b[0m\n\u001b[0;32m    334\u001b[0m \u001b[1;33m\u001b[0m\u001b[0m\n",
      "\u001b[1;31mValueError\u001b[0m: Error when checking target: expected fc0 to have shape (1,) but got array with shape (10,)"
     ]
    }
   ],
   "source": [
    "history = m.fit(x_train,training_labels, \n",
    "                batch_size=BATCH_SIZE, epochs=50, \n",
    "                validation_data=(x_val, validation_labels))"
   ]
  },
  {
   "cell_type": "code",
   "execution_count": 74,
   "metadata": {
    "collapsed": true
   },
   "outputs": [],
   "source": [
    "from numpy.random import randint, rand"
   ]
  },
  {
   "cell_type": "code",
   "execution_count": 75,
   "metadata": {
    "collapsed": true
   },
   "outputs": [],
   "source": [
    "# select real samples\n",
    "def generate_real_samples(dataset, n_samples):\n",
    "    # choose random instances    \n",
    "    ix = randint(0, dataset.shape[0], n_samples)\n",
    "    \n",
    "    # retrieve selected images\n",
    "    X = dataset[ix]\n",
    "    # generate 'real' class labels (1)\n",
    "    y = np.ones((n_samples, 1))\n",
    "    return X, y\n",
    "\n",
    "def generate_fake_samples(n_samples):\n",
    "    # generate uniform random numbers in [0,1]\n",
    "    X = rand(28 * 28 * n_samples)\n",
    "    # reshape into a batch of grayscale images\n",
    "    X = X.reshape((n_samples, 28, 28, 1))\n",
    "    # generate 'fake' class labels (0)\n",
    "    y = np.zeros((n_samples, 1))\n",
    "    return X, y"
   ]
  },
  {
   "cell_type": "code",
   "execution_count": 76,
   "metadata": {
    "collapsed": true
   },
   "outputs": [],
   "source": [
    "def train_discriminator(model, dataset, n_iter=100, n_batch=256):\n",
    "    half_batch = int(n_batch / 2)\n",
    "    # manually enumerate epochs\n",
    "    for i in range(n_iter):\n",
    "        # get randomly selected 'real' samples\n",
    "        X_real, y_real = generate_real_samples(dataset, half_batch)\n",
    "        # update discriminator on real samples\n",
    "        _, real_acc = model.train_on_batch(X_real, y_real)\n",
    "        # generate 'fake' examples\n",
    "        X_fake, y_fake = generate_fake_samples(half_batch)\n",
    "        # update discriminator on fake samples\n",
    "        _, fake_acc = model.train_on_batch(X_fake, y_fake)\n",
    "        # summarize performance\n",
    "        print('>%d real=%.0f%% fake=%.0f%%' % (i+1, real_acc*100, fake_acc*100))"
   ]
  },
  {
   "cell_type": "code",
   "execution_count": 77,
   "metadata": {},
   "outputs": [
    {
     "name": "stdout",
     "output_type": "stream",
     "text": [
      "50000\n",
      "128\n",
      ">1 real=50% fake=36%\n",
      "50000\n",
      "128\n",
      ">2 real=100% fake=84%\n",
      "50000\n",
      "128\n",
      ">3 real=100% fake=98%\n",
      "50000\n",
      "128\n",
      ">4 real=100% fake=99%\n",
      "50000\n",
      "128\n",
      ">5 real=99% fake=100%\n",
      "50000\n",
      "128\n",
      ">6 real=100% fake=100%\n",
      "50000\n",
      "128\n",
      ">7 real=100% fake=100%\n",
      "50000\n",
      "128\n",
      ">8 real=100% fake=100%\n",
      "50000\n",
      "128\n",
      ">9 real=100% fake=100%\n",
      "50000\n",
      "128\n",
      ">10 real=100% fake=100%\n",
      "50000\n",
      "128\n",
      ">11 real=100% fake=100%\n",
      "50000\n",
      "128\n",
      ">12 real=100% fake=100%\n",
      "50000\n",
      "128\n",
      ">13 real=100% fake=100%\n",
      "50000\n",
      "128\n",
      ">14 real=100% fake=100%\n",
      "50000\n",
      "128\n",
      ">15 real=100% fake=100%\n",
      "50000\n",
      "128\n",
      ">16 real=100% fake=100%\n",
      "50000\n",
      "128\n",
      ">17 real=100% fake=100%\n",
      "50000\n",
      "128\n",
      ">18 real=100% fake=100%\n",
      "50000\n",
      "128\n",
      ">19 real=100% fake=100%\n",
      "50000\n",
      "128\n",
      ">20 real=100% fake=100%\n",
      "50000\n",
      "128\n",
      ">21 real=100% fake=100%\n",
      "50000\n",
      "128\n",
      ">22 real=100% fake=100%\n",
      "50000\n",
      "128\n",
      ">23 real=100% fake=100%\n",
      "50000\n",
      "128\n",
      ">24 real=100% fake=100%\n",
      "50000\n",
      "128\n",
      ">25 real=100% fake=100%\n",
      "50000\n",
      "128\n",
      ">26 real=100% fake=100%\n",
      "50000\n",
      "128\n",
      ">27 real=100% fake=100%\n",
      "50000\n",
      "128\n",
      ">28 real=100% fake=100%\n",
      "50000\n",
      "128\n",
      ">29 real=100% fake=100%\n",
      "50000\n",
      "128\n",
      ">30 real=100% fake=100%\n",
      "50000\n",
      "128\n",
      ">31 real=100% fake=100%\n",
      "50000\n",
      "128\n",
      ">32 real=100% fake=100%\n",
      "50000\n",
      "128\n",
      ">33 real=100% fake=100%\n",
      "50000\n",
      "128\n",
      ">34 real=100% fake=100%\n",
      "50000\n",
      "128\n",
      ">35 real=100% fake=100%\n",
      "50000\n",
      "128\n",
      ">36 real=100% fake=100%\n",
      "50000\n",
      "128\n",
      ">37 real=100% fake=100%\n",
      "50000\n",
      "128\n",
      ">38 real=100% fake=100%\n",
      "50000\n",
      "128\n",
      ">39 real=100% fake=100%\n",
      "50000\n",
      "128\n",
      ">40 real=100% fake=100%\n",
      "50000\n",
      "128\n",
      ">41 real=100% fake=100%\n",
      "50000\n",
      "128\n",
      ">42 real=100% fake=100%\n",
      "50000\n",
      "128\n",
      ">43 real=100% fake=100%\n",
      "50000\n",
      "128\n",
      ">44 real=100% fake=100%\n",
      "50000\n",
      "128\n",
      ">45 real=100% fake=100%\n",
      "50000\n",
      "128\n",
      ">46 real=100% fake=100%\n",
      "50000\n",
      "128\n",
      ">47 real=100% fake=100%\n",
      "50000\n",
      "128\n",
      ">48 real=100% fake=100%\n",
      "50000\n",
      "128\n",
      ">49 real=100% fake=100%\n",
      "50000\n",
      "128\n",
      ">50 real=100% fake=100%\n",
      "50000\n",
      "128\n",
      ">51 real=100% fake=100%\n",
      "50000\n",
      "128\n",
      ">52 real=100% fake=100%\n",
      "50000\n",
      "128\n",
      ">53 real=100% fake=100%\n",
      "50000\n",
      "128\n",
      ">54 real=100% fake=100%\n",
      "50000\n",
      "128\n",
      ">55 real=100% fake=100%\n",
      "50000\n",
      "128\n",
      ">56 real=100% fake=100%\n",
      "50000\n",
      "128\n",
      ">57 real=100% fake=100%\n",
      "50000\n",
      "128\n",
      ">58 real=100% fake=100%\n",
      "50000\n",
      "128\n",
      ">59 real=100% fake=100%\n",
      "50000\n",
      "128\n",
      ">60 real=100% fake=100%\n",
      "50000\n",
      "128\n",
      ">61 real=100% fake=100%\n",
      "50000\n",
      "128\n",
      ">62 real=100% fake=100%\n",
      "50000\n",
      "128\n",
      ">63 real=100% fake=100%\n",
      "50000\n",
      "128\n",
      ">64 real=100% fake=100%\n",
      "50000\n",
      "128\n",
      ">65 real=100% fake=100%\n",
      "50000\n",
      "128\n",
      ">66 real=100% fake=100%\n",
      "50000\n",
      "128\n",
      ">67 real=100% fake=100%\n",
      "50000\n",
      "128\n",
      ">68 real=100% fake=100%\n",
      "50000\n",
      "128\n",
      ">69 real=100% fake=100%\n",
      "50000\n",
      "128\n",
      ">70 real=100% fake=100%\n",
      "50000\n",
      "128\n",
      ">71 real=100% fake=100%\n",
      "50000\n",
      "128\n",
      ">72 real=100% fake=100%\n",
      "50000\n",
      "128\n",
      ">73 real=100% fake=100%\n",
      "50000\n",
      "128\n",
      ">74 real=100% fake=100%\n",
      "50000\n",
      "128\n",
      ">75 real=100% fake=100%\n",
      "50000\n",
      "128\n",
      ">76 real=100% fake=100%\n",
      "50000\n",
      "128\n",
      ">77 real=100% fake=100%\n",
      "50000\n",
      "128\n",
      ">78 real=100% fake=100%\n",
      "50000\n",
      "128\n",
      ">79 real=100% fake=100%\n",
      "50000\n",
      "128\n",
      ">80 real=100% fake=100%\n",
      "50000\n",
      "128\n",
      ">81 real=100% fake=100%\n",
      "50000\n",
      "128\n",
      ">82 real=100% fake=100%\n",
      "50000\n",
      "128\n",
      ">83 real=100% fake=100%\n",
      "50000\n",
      "128\n",
      ">84 real=100% fake=100%\n",
      "50000\n",
      "128\n",
      ">85 real=100% fake=100%\n",
      "50000\n",
      "128\n",
      ">86 real=100% fake=100%\n",
      "50000\n",
      "128\n",
      ">87 real=100% fake=100%\n",
      "50000\n",
      "128\n",
      ">88 real=100% fake=100%\n",
      "50000\n",
      "128\n",
      ">89 real=100% fake=100%\n",
      "50000\n",
      "128\n",
      ">90 real=100% fake=100%\n",
      "50000\n",
      "128\n",
      ">91 real=100% fake=100%\n",
      "50000\n",
      "128\n",
      ">92 real=100% fake=100%\n",
      "50000\n",
      "128\n",
      ">93 real=100% fake=100%\n",
      "50000\n",
      "128\n",
      ">94 real=100% fake=100%\n",
      "50000\n",
      "128\n",
      ">95 real=100% fake=100%\n",
      "50000\n",
      "128\n",
      ">96 real=100% fake=100%\n",
      "50000\n",
      "128\n",
      ">97 real=100% fake=100%\n",
      "50000\n",
      "128\n",
      ">98 real=100% fake=100%\n",
      "50000\n",
      "128\n",
      ">99 real=100% fake=100%\n",
      "50000\n",
      "128\n",
      ">100 real=100% fake=100%\n"
     ]
    }
   ],
   "source": [
    "# define the discriminator model\n",
    "model = Discriminator()\n",
    "\n",
    "model.compile(optimizer = Adam(lr=0.0002, beta_1=0.5) , loss = 'binary_crossentropy' , metrics=['accuracy'])\n",
    "\n",
    "# load image data\n",
    "dataset = x_train\n",
    "# fit the model\n",
    "train_discriminator(model, dataset)"
   ]
  },
  {
   "cell_type": "code",
   "execution_count": null,
   "metadata": {},
   "outputs": [],
   "source": []
  },
  {
   "cell_type": "code",
   "execution_count": null,
   "metadata": {
    "collapsed": true
   },
   "outputs": [],
   "source": []
  },
  {
   "cell_type": "code",
   "execution_count": null,
   "metadata": {
    "collapsed": true
   },
   "outputs": [],
   "source": []
  },
  {
   "cell_type": "code",
   "execution_count": null,
   "metadata": {
    "collapsed": true
   },
   "outputs": [],
   "source": []
  },
  {
   "cell_type": "markdown",
   "metadata": {},
   "source": [
    "# Simplified AutoEncoder"
   ]
  },
  {
   "cell_type": "code",
   "execution_count": 15,
   "metadata": {
    "collapsed": true
   },
   "outputs": [],
   "source": [
    "# Input Dimension\n",
    "input_dim = im_rows*im_cols\n",
    "\n",
    "# Dimension of encoded representation\n",
    "encoding_dim = 32"
   ]
  },
  {
   "cell_type": "code",
   "execution_count": 16,
   "metadata": {
    "collapsed": true
   },
   "outputs": [],
   "source": [
    "def AutoEncoder(input_dim, encoding_dim):\n",
    "    \n",
    "    # Input Image\n",
    "    X_input = Input(shape=(input_dim,),name = \"input\")\n",
    "    \n",
    "    # Encoded representation of input\n",
    "    X = Dense(encoding_dim, activation='relu', name = \"encoder\")(X_input)\n",
    "    \n",
    "    # Decoded / lossy reconstruction of input\n",
    "    X = Dense(input_dim, activation='sigmoid', name = \"decoder\")(X)\n",
    "    \n",
    "    # Model that maps input to its reconstruction\n",
    "    model = Model(inputs = X_input, outputs = X, name='AutoEncoder')\n",
    "\n",
    "    return model"
   ]
  },
  {
   "cell_type": "code",
   "execution_count": 17,
   "metadata": {
    "collapsed": true
   },
   "outputs": [],
   "source": [
    "autoencoder = AutoEncoder(input_dim, encoding_dim)"
   ]
  },
  {
   "cell_type": "code",
   "execution_count": 18,
   "metadata": {},
   "outputs": [
    {
     "name": "stdout",
     "output_type": "stream",
     "text": [
      "_________________________________________________________________\n",
      "Layer (type)                 Output Shape              Param #   \n",
      "=================================================================\n",
      "input (InputLayer)           (None, 784)               0         \n",
      "_________________________________________________________________\n",
      "encoder (Dense)              (None, 32)                25120     \n",
      "_________________________________________________________________\n",
      "decoder (Dense)              (None, 784)               25872     \n",
      "=================================================================\n",
      "Total params: 50,992\n",
      "Trainable params: 50,992\n",
      "Non-trainable params: 0\n",
      "_________________________________________________________________\n"
     ]
    }
   ],
   "source": [
    "autoencoder.summary()"
   ]
  },
  {
   "cell_type": "code",
   "execution_count": 19,
   "metadata": {
    "collapsed": true
   },
   "outputs": [],
   "source": [
    "autoencoder.compile(optimizer = 'adam' , loss = 'binary_crossentropy')"
   ]
  },
  {
   "cell_type": "code",
   "execution_count": 20,
   "metadata": {
    "scrolled": true
   },
   "outputs": [
    {
     "name": "stdout",
     "output_type": "stream",
     "text": [
      "Train on 50000 samples, validate on 2000 samples\n",
      "Epoch 1/200\n",
      "50000/50000 [==============================] - 2s 40us/step - loss: 0.4959 - val_loss: 0.2149\n",
      "Epoch 2/200\n",
      "50000/50000 [==============================] - 1s 29us/step - loss: 0.0994 - val_loss: 0.0427\n",
      "Epoch 3/200\n",
      "50000/50000 [==============================] - 1s 27us/step - loss: 0.0274 - val_loss: 0.0179\n",
      "Epoch 4/200\n",
      "50000/50000 [==============================] - 2s 33us/step - loss: 0.0138 - val_loss: 0.0109\n",
      "Epoch 5/200\n",
      "50000/50000 [==============================] - 2s 33us/step - loss: 0.0092 - val_loss: 0.0080\n",
      "Epoch 6/200\n",
      "50000/50000 [==============================] - 2s 35us/step - loss: 0.0072 - val_loss: 0.0065\n",
      "Epoch 7/200\n",
      "50000/50000 [==============================] - 2s 33us/step - loss: 0.0061 - val_loss: 0.0058\n",
      "Epoch 8/200\n",
      "50000/50000 [==============================] - 2s 32us/step - loss: 0.0055 - val_loss: 0.0053\n",
      "Epoch 9/200\n",
      "50000/50000 [==============================] - 2s 33us/step - loss: 0.0051 - val_loss: 0.0050\n",
      "Epoch 10/200\n",
      "50000/50000 [==============================] - 2s 33us/step - loss: 0.0049 - val_loss: 0.0048\n",
      "Epoch 11/200\n",
      "50000/50000 [==============================] - 2s 33us/step - loss: 0.0047 - val_loss: 0.0046\n",
      "Epoch 12/200\n",
      "50000/50000 [==============================] - 2s 31us/step - loss: 0.0046 - val_loss: 0.0045\n",
      "Epoch 13/200\n",
      "50000/50000 [==============================] - 2s 31us/step - loss: 0.0045 - val_loss: 0.0045\n",
      "Epoch 14/200\n",
      "50000/50000 [==============================] - 2s 32us/step - loss: 0.0044 - val_loss: 0.0044\n",
      "Epoch 15/200\n",
      "50000/50000 [==============================] - 2s 31us/step - loss: 0.0044 - val_loss: 0.0044\n",
      "Epoch 16/200\n",
      "50000/50000 [==============================] - 2s 40us/step - loss: 0.0044 - val_loss: 0.0043\n",
      "Epoch 17/200\n",
      "50000/50000 [==============================] - 2s 48us/step - loss: 0.0043 - val_loss: 0.0043\n",
      "Epoch 18/200\n",
      "50000/50000 [==============================] - 2s 45us/step - loss: 0.0043 - val_loss: 0.0043\n",
      "Epoch 19/200\n",
      "50000/50000 [==============================] - 2s 32us/step - loss: 0.0043 - val_loss: 0.0042\n",
      "Epoch 20/200\n",
      "50000/50000 [==============================] - 2s 30us/step - loss: 0.0042 - val_loss: 0.0042\n",
      "Epoch 21/200\n",
      "50000/50000 [==============================] - 2s 30us/step - loss: 0.0042 - val_loss: 0.0042\n",
      "Epoch 22/200\n",
      "50000/50000 [==============================] - 2s 31us/step - loss: 0.0042 - val_loss: 0.0042\n",
      "Epoch 23/200\n",
      "50000/50000 [==============================] - 2s 30us/step - loss: 0.0042 - val_loss: 0.0042\n",
      "Epoch 24/200\n",
      "50000/50000 [==============================] - 2s 35us/step - loss: 0.0042 - val_loss: 0.0042\n",
      "Epoch 25/200\n",
      "50000/50000 [==============================] - 2s 36us/step - loss: 0.0042 - val_loss: 0.0042\n",
      "Epoch 26/200\n",
      "50000/50000 [==============================] - 2s 40us/step - loss: 0.0042 - val_loss: 0.0042\n",
      "Epoch 27/200\n",
      "50000/50000 [==============================] - 2s 36us/step - loss: 0.0042 - val_loss: 0.0041\n",
      "Epoch 28/200\n",
      "50000/50000 [==============================] - 2s 32us/step - loss: 0.0042 - val_loss: 0.0041\n",
      "Epoch 29/200\n",
      "50000/50000 [==============================] - 2s 31us/step - loss: 0.0041 - val_loss: 0.0041\n",
      "Epoch 30/200\n",
      "50000/50000 [==============================] - 2s 34us/step - loss: 0.0041 - val_loss: 0.0041\n",
      "Epoch 31/200\n",
      "50000/50000 [==============================] - 2s 40us/step - loss: 0.0041 - val_loss: 0.0041\n",
      "Epoch 32/200\n",
      "50000/50000 [==============================] - 2s 37us/step - loss: 0.0041 - val_loss: 0.0041\n",
      "Epoch 33/200\n",
      "50000/50000 [==============================] - 2s 32us/step - loss: 0.0041 - val_loss: 0.0041\n",
      "Epoch 34/200\n",
      "50000/50000 [==============================] - 2s 32us/step - loss: 0.0041 - val_loss: 0.0041\n",
      "Epoch 35/200\n",
      "50000/50000 [==============================] - 2s 32us/step - loss: 0.0041 - val_loss: 0.0041\n",
      "Epoch 36/200\n",
      "50000/50000 [==============================] - 2s 31us/step - loss: 0.0041 - val_loss: 0.0041\n",
      "Epoch 37/200\n",
      "50000/50000 [==============================] - 2s 31us/step - loss: 0.0041 - val_loss: 0.0041\n",
      "Epoch 38/200\n",
      "50000/50000 [==============================] - 2s 30us/step - loss: 0.0041 - val_loss: 0.0041\n",
      "Epoch 39/200\n",
      "50000/50000 [==============================] - 2s 31us/step - loss: 0.0041 - val_loss: 0.0041\n",
      "Epoch 40/200\n",
      "50000/50000 [==============================] - 2s 30us/step - loss: 0.0041 - val_loss: 0.0041\n",
      "Epoch 41/200\n",
      "50000/50000 [==============================] - 1s 29us/step - loss: 0.0041 - val_loss: 0.0040\n",
      "Epoch 42/200\n",
      "50000/50000 [==============================] - 1s 28us/step - loss: 0.0041 - val_loss: 0.0040\n",
      "Epoch 43/200\n",
      "50000/50000 [==============================] - 1s 29us/step - loss: 0.0040 - val_loss: 0.0040\n",
      "Epoch 44/200\n",
      "50000/50000 [==============================] - 1s 29us/step - loss: 0.0040 - val_loss: 0.0040\n",
      "Epoch 45/200\n",
      "50000/50000 [==============================] - 1s 30us/step - loss: 0.0040 - val_loss: 0.0040\n",
      "Epoch 46/200\n",
      "50000/50000 [==============================] - 2s 31us/step - loss: 0.0040 - val_loss: 0.0040\n",
      "Epoch 47/200\n",
      "50000/50000 [==============================] - 2s 31us/step - loss: 0.0040 - val_loss: 0.0040\n",
      "Epoch 48/200\n",
      "50000/50000 [==============================] - 2s 30us/step - loss: 0.0040 - val_loss: 0.0040\n",
      "Epoch 49/200\n",
      "50000/50000 [==============================] - 1s 29us/step - loss: 0.0040 - val_loss: 0.0040\n",
      "Epoch 50/200\n",
      "50000/50000 [==============================] - 1s 30us/step - loss: 0.0040 - val_loss: 0.0040\n",
      "Epoch 51/200\n",
      "50000/50000 [==============================] - 2s 33us/step - loss: 0.0040 - val_loss: 0.0040\n",
      "Epoch 52/200\n",
      "50000/50000 [==============================] - 2s 31us/step - loss: 0.0040 - val_loss: 0.0040\n",
      "Epoch 53/200\n",
      "50000/50000 [==============================] - 2s 33us/step - loss: 0.0040 - val_loss: 0.0040\n",
      "Epoch 54/200\n",
      "50000/50000 [==============================] - 2s 35us/step - loss: 0.0040 - val_loss: 0.0040\n",
      "Epoch 55/200\n",
      "50000/50000 [==============================] - 2s 38us/step - loss: 0.0040 - val_loss: 0.0040\n",
      "Epoch 56/200\n",
      "50000/50000 [==============================] - 1s 30us/step - loss: 0.0040 - val_loss: 0.0040\n",
      "Epoch 57/200\n",
      "50000/50000 [==============================] - 2s 34us/step - loss: 0.0040 - val_loss: 0.0040\n",
      "Epoch 58/200\n",
      "50000/50000 [==============================] - 2s 34us/step - loss: 0.0040 - val_loss: 0.0040\n",
      "Epoch 59/200\n",
      "50000/50000 [==============================] - 2s 31us/step - loss: 0.0040 - val_loss: 0.0040\n",
      "Epoch 60/200\n",
      "50000/50000 [==============================] - 1s 28us/step - loss: 0.0040 - val_loss: 0.0040\n",
      "Epoch 61/200\n",
      "50000/50000 [==============================] - 2s 32us/step - loss: 0.0040 - val_loss: 0.0040\n",
      "Epoch 62/200\n",
      "50000/50000 [==============================] - 2s 47us/step - loss: 0.0040 - val_loss: 0.0040\n",
      "Epoch 63/200\n",
      "50000/50000 [==============================] - 1s 28us/step - loss: 0.0040 - val_loss: 0.0040\n",
      "Epoch 64/200\n",
      "50000/50000 [==============================] - 1s 28us/step - loss: 0.0040 - val_loss: 0.0039\n",
      "Epoch 65/200\n",
      "50000/50000 [==============================] - 1s 27us/step - loss: 0.0040 - val_loss: 0.0039\n",
      "Epoch 66/200\n",
      "50000/50000 [==============================] - 1s 26us/step - loss: 0.0040 - val_loss: 0.0039\n",
      "Epoch 67/200\n",
      "50000/50000 [==============================] - 1s 26us/step - loss: 0.0040 - val_loss: 0.0039\n",
      "Epoch 68/200\n",
      "50000/50000 [==============================] - 1s 28us/step - loss: 0.0040 - val_loss: 0.0039\n",
      "Epoch 69/200\n",
      "50000/50000 [==============================] - 1s 24us/step - loss: 0.0040 - val_loss: 0.0039\n",
      "Epoch 70/200\n",
      "50000/50000 [==============================] - 1s 29us/step - loss: 0.0040 - val_loss: 0.0039\n",
      "Epoch 71/200\n",
      "50000/50000 [==============================] - 2s 34us/step - loss: 0.0040 - val_loss: 0.0039\n",
      "Epoch 72/200\n",
      "50000/50000 [==============================] - 2s 32us/step - loss: 0.0040 - val_loss: 0.0039\n",
      "Epoch 73/200\n",
      "50000/50000 [==============================] - 2s 35us/step - loss: 0.0040 - val_loss: 0.0039\n",
      "Epoch 74/200\n",
      "50000/50000 [==============================] - 1s 24us/step - loss: 0.0039 - val_loss: 0.0039\n",
      "Epoch 75/200\n",
      "50000/50000 [==============================] - 1s 28us/step - loss: 0.0039 - val_loss: 0.0039\n",
      "Epoch 76/200\n",
      "50000/50000 [==============================] - 1s 23us/step - loss: 0.0039 - val_loss: 0.0039\n",
      "Epoch 77/200\n",
      "50000/50000 [==============================] - 1s 25us/step - loss: 0.0039 - val_loss: 0.0039\n",
      "Epoch 78/200\n",
      "50000/50000 [==============================] - 2s 30us/step - loss: 0.0039 - val_loss: 0.0039\n",
      "Epoch 79/200\n",
      "50000/50000 [==============================] - 1s 25us/step - loss: 0.0039 - val_loss: 0.0039\n",
      "Epoch 80/200\n",
      "50000/50000 [==============================] - 1s 26us/step - loss: 0.0039 - val_loss: 0.0039\n",
      "Epoch 81/200\n",
      "50000/50000 [==============================] - 1s 29us/step - loss: 0.0039 - val_loss: 0.0039\n",
      "Epoch 82/200\n",
      "50000/50000 [==============================] - 1s 28us/step - loss: 0.0039 - val_loss: 0.0039\n",
      "Epoch 83/200\n",
      "50000/50000 [==============================] - 1s 29us/step - loss: 0.0039 - val_loss: 0.0039\n",
      "Epoch 84/200\n",
      "50000/50000 [==============================] - 1s 25us/step - loss: 0.0039 - val_loss: 0.0039\n",
      "Epoch 85/200\n",
      "50000/50000 [==============================] - 1s 29us/step - loss: 0.0039 - val_loss: 0.0039\n",
      "Epoch 86/200\n",
      "50000/50000 [==============================] - 1s 29us/step - loss: 0.0039 - val_loss: 0.0039\n",
      "Epoch 87/200\n",
      "50000/50000 [==============================] - 1s 28us/step - loss: 0.0039 - val_loss: 0.0039\n",
      "Epoch 88/200\n",
      "50000/50000 [==============================] - 1s 29us/step - loss: 0.0039 - val_loss: 0.0039\n",
      "Epoch 89/200\n",
      "50000/50000 [==============================] - 2s 33us/step - loss: 0.0039 - val_loss: 0.0039\n",
      "Epoch 90/200\n",
      "50000/50000 [==============================] - 2s 31us/step - loss: 0.0039 - val_loss: 0.0039\n",
      "Epoch 91/200\n",
      "50000/50000 [==============================] - 1s 29us/step - loss: 0.0039 - val_loss: 0.0039\n",
      "Epoch 92/200\n",
      "50000/50000 [==============================] - 1s 27us/step - loss: 0.0039 - val_loss: 0.0039\n",
      "Epoch 93/200\n",
      "50000/50000 [==============================] - 1s 24us/step - loss: 0.0039 - val_loss: 0.0039\n",
      "Epoch 94/200\n",
      "50000/50000 [==============================] - 1s 24us/step - loss: 0.0039 - val_loss: 0.0039\n",
      "Epoch 95/200\n",
      "50000/50000 [==============================] - 1s 24us/step - loss: 0.0039 - val_loss: 0.0039\n",
      "Epoch 96/200\n",
      "50000/50000 [==============================] - 1s 24us/step - loss: 0.0039 - val_loss: 0.0039\n",
      "Epoch 97/200\n",
      "50000/50000 [==============================] - 1s 24us/step - loss: 0.0039 - val_loss: 0.0039\n",
      "Epoch 98/200\n",
      "50000/50000 [==============================] - 1s 24us/step - loss: 0.0039 - val_loss: 0.0039\n",
      "Epoch 99/200\n",
      "50000/50000 [==============================] - 1s 24us/step - loss: 0.0039 - val_loss: 0.0039\n",
      "Epoch 100/200\n",
      "50000/50000 [==============================] - 1s 26us/step - loss: 0.0039 - val_loss: 0.0039\n",
      "Epoch 101/200\n",
      "50000/50000 [==============================] - 1s 27us/step - loss: 0.0039 - val_loss: 0.0039\n",
      "Epoch 102/200\n",
      "50000/50000 [==============================] - 2s 33us/step - loss: 0.0039 - val_loss: 0.0039\n",
      "Epoch 103/200\n",
      "50000/50000 [==============================] - 1s 29us/step - loss: 0.0039 - val_loss: 0.0039\n",
      "Epoch 104/200\n",
      "50000/50000 [==============================] - 2s 30us/step - loss: 0.0039 - val_loss: 0.0039\n",
      "Epoch 105/200\n",
      "50000/50000 [==============================] - 1s 29us/step - loss: 0.0039 - val_loss: 0.0039\n",
      "Epoch 106/200\n",
      "50000/50000 [==============================] - 1s 28us/step - loss: 0.0039 - val_loss: 0.0039\n",
      "Epoch 107/200\n",
      "50000/50000 [==============================] - 1s 30us/step - loss: 0.0039 - val_loss: 0.0039\n",
      "Epoch 108/200\n",
      "50000/50000 [==============================] - 2s 31us/step - loss: 0.0039 - val_loss: 0.0039\n",
      "Epoch 109/200\n",
      "50000/50000 [==============================] - 1s 28us/step - loss: 0.0039 - val_loss: 0.0039\n",
      "Epoch 110/200\n",
      "50000/50000 [==============================] - 2s 35us/step - loss: 0.0039 - val_loss: 0.0039\n",
      "Epoch 111/200\n",
      "50000/50000 [==============================] - 2s 39us/step - loss: 0.0039 - val_loss: 0.0039\n",
      "Epoch 112/200\n",
      "50000/50000 [==============================] - 2s 42us/step - loss: 0.0039 - val_loss: 0.0039\n",
      "Epoch 113/200\n",
      "50000/50000 [==============================] - 2s 30us/step - loss: 0.0039 - val_loss: 0.0039\n",
      "Epoch 114/200\n",
      "50000/50000 [==============================] - 1s 27us/step - loss: 0.0039 - val_loss: 0.0039\n",
      "Epoch 115/200\n",
      "50000/50000 [==============================] - 1s 26us/step - loss: 0.0039 - val_loss: 0.0039\n",
      "Epoch 116/200\n",
      "50000/50000 [==============================] - 1s 29us/step - loss: 0.0039 - val_loss: 0.0038\n",
      "Epoch 117/200\n",
      "50000/50000 [==============================] - 1s 30us/step - loss: 0.0039 - val_loss: 0.0038\n",
      "Epoch 118/200\n",
      "50000/50000 [==============================] - 2s 33us/step - loss: 0.0039 - val_loss: 0.0038\n",
      "Epoch 119/200\n",
      "50000/50000 [==============================] - 1s 27us/step - loss: 0.0039 - val_loss: 0.0038\n",
      "Epoch 120/200\n",
      "50000/50000 [==============================] - 1s 23us/step - loss: 0.0039 - val_loss: 0.0038\n",
      "Epoch 121/200\n",
      "50000/50000 [==============================] - 1s 24us/step - loss: 0.0038 - val_loss: 0.0038\n",
      "Epoch 122/200\n",
      "50000/50000 [==============================] - 2s 37us/step - loss: 0.0038 - val_loss: 0.0038\n",
      "Epoch 123/200\n",
      "50000/50000 [==============================] - 1s 28us/step - loss: 0.0038 - val_loss: 0.0038\n",
      "Epoch 124/200\n",
      "50000/50000 [==============================] - 1s 28us/step - loss: 0.0038 - val_loss: 0.0038\n",
      "Epoch 125/200\n",
      "50000/50000 [==============================] - 2s 32us/step - loss: 0.0038 - val_loss: 0.0038\n",
      "Epoch 126/200\n",
      "50000/50000 [==============================] - 1s 30us/step - loss: 0.0038 - val_loss: 0.0038\n",
      "Epoch 127/200\n",
      "50000/50000 [==============================] - 1s 29us/step - loss: 0.0038 - val_loss: 0.0038\n",
      "Epoch 128/200\n",
      "50000/50000 [==============================] - 1s 26us/step - loss: 0.0038 - val_loss: 0.0038\n",
      "Epoch 129/200\n",
      "50000/50000 [==============================] - 1s 23us/step - loss: 0.0038 - val_loss: 0.0038\n",
      "Epoch 130/200\n",
      "50000/50000 [==============================] - 1s 23us/step - loss: 0.0038 - val_loss: 0.0038\n",
      "Epoch 131/200\n",
      "50000/50000 [==============================] - 1s 23us/step - loss: 0.0038 - val_loss: 0.0038\n",
      "Epoch 132/200\n",
      "50000/50000 [==============================] - 1s 28us/step - loss: 0.0038 - val_loss: 0.0038\n",
      "Epoch 133/200\n",
      "50000/50000 [==============================] - 1s 28us/step - loss: 0.0038 - val_loss: 0.0038\n",
      "Epoch 134/200\n",
      "50000/50000 [==============================] - 2s 31us/step - loss: 0.0038 - val_loss: 0.0038\n",
      "Epoch 135/200\n",
      "50000/50000 [==============================] - 1s 26us/step - loss: 0.0038 - val_loss: 0.0038\n",
      "Epoch 136/200\n",
      "50000/50000 [==============================] - 2s 32us/step - loss: 0.0038 - val_loss: 0.0038\n",
      "Epoch 137/200\n",
      "50000/50000 [==============================] - 1s 28us/step - loss: 0.0038 - val_loss: 0.0038\n",
      "Epoch 138/200\n",
      "50000/50000 [==============================] - 2s 30us/step - loss: 0.0038 - val_loss: 0.0038\n",
      "Epoch 139/200\n",
      "50000/50000 [==============================] - 1s 28us/step - loss: 0.0038 - val_loss: 0.0038\n",
      "Epoch 140/200\n",
      "50000/50000 [==============================] - 2s 32us/step - loss: 0.0038 - val_loss: 0.0038\n",
      "Epoch 141/200\n",
      "50000/50000 [==============================] - 2s 37us/step - loss: 0.0038 - val_loss: 0.0038\n",
      "Epoch 142/200\n",
      "50000/50000 [==============================] - 2s 36us/step - loss: 0.0038 - val_loss: 0.0038\n",
      "Epoch 143/200\n",
      "50000/50000 [==============================] - 2s 38us/step - loss: 0.0038 - val_loss: 0.0038\n",
      "Epoch 144/200\n",
      "50000/50000 [==============================] - 2s 38us/step - loss: 0.0038 - val_loss: 0.0038\n",
      "Epoch 145/200\n",
      "50000/50000 [==============================] - 2s 32us/step - loss: 0.0038 - val_loss: 0.0038\n",
      "Epoch 146/200\n",
      "50000/50000 [==============================] - 1s 30us/step - loss: 0.0038 - val_loss: 0.0038\n",
      "Epoch 147/200\n",
      "50000/50000 [==============================] - 2s 34us/step - loss: 0.0038 - val_loss: 0.0038\n",
      "Epoch 148/200\n",
      "50000/50000 [==============================] - 1s 28us/step - loss: 0.0038 - val_loss: 0.0038\n",
      "Epoch 149/200\n",
      "50000/50000 [==============================] - 1s 27us/step - loss: 0.0038 - val_loss: 0.0038\n",
      "Epoch 150/200\n",
      "50000/50000 [==============================] - 1s 26us/step - loss: 0.0038 - val_loss: 0.0038\n",
      "Epoch 151/200\n",
      "50000/50000 [==============================] - 1s 24us/step - loss: 0.0038 - val_loss: 0.0038\n",
      "Epoch 152/200\n",
      "50000/50000 [==============================] - 1s 22us/step - loss: 0.0038 - val_loss: 0.0038\n",
      "Epoch 153/200\n"
     ]
    },
    {
     "name": "stdout",
     "output_type": "stream",
     "text": [
      "50000/50000 [==============================] - 1s 24us/step - loss: 0.0038 - val_loss: 0.0038\n",
      "Epoch 154/200\n",
      "50000/50000 [==============================] - 2s 32us/step - loss: 0.0038 - val_loss: 0.0038\n",
      "Epoch 155/200\n",
      "50000/50000 [==============================] - 2s 34us/step - loss: 0.0038 - val_loss: 0.0038\n",
      "Epoch 156/200\n",
      "50000/50000 [==============================] - 1s 30us/step - loss: 0.0038 - val_loss: 0.0038\n",
      "Epoch 157/200\n",
      "50000/50000 [==============================] - 1s 29us/step - loss: 0.0038 - val_loss: 0.0038\n",
      "Epoch 158/200\n",
      "50000/50000 [==============================] - 1s 26us/step - loss: 0.0038 - val_loss: 0.0038\n",
      "Epoch 159/200\n",
      "50000/50000 [==============================] - 1s 28us/step - loss: 0.0038 - val_loss: 0.0038\n",
      "Epoch 160/200\n",
      "50000/50000 [==============================] - 1s 26us/step - loss: 0.0038 - val_loss: 0.0038\n",
      "Epoch 161/200\n",
      "50000/50000 [==============================] - 2s 31us/step - loss: 0.0038 - val_loss: 0.0038\n",
      "Epoch 162/200\n",
      "50000/50000 [==============================] - 1s 27us/step - loss: 0.0038 - val_loss: 0.0038\n",
      "Epoch 163/200\n",
      "50000/50000 [==============================] - 1s 28us/step - loss: 0.0038 - val_loss: 0.0038\n",
      "Epoch 164/200\n",
      "50000/50000 [==============================] - 1s 24us/step - loss: 0.0038 - val_loss: 0.0038\n",
      "Epoch 165/200\n",
      "50000/50000 [==============================] - 1s 24us/step - loss: 0.0038 - val_loss: 0.0038\n",
      "Epoch 166/200\n",
      "50000/50000 [==============================] - 1s 25us/step - loss: 0.0038 - val_loss: 0.0038\n",
      "Epoch 167/200\n",
      "50000/50000 [==============================] - 1s 27us/step - loss: 0.0038 - val_loss: 0.0038\n",
      "Epoch 168/200\n",
      "50000/50000 [==============================] - 1s 23us/step - loss: 0.0038 - val_loss: 0.0038\n",
      "Epoch 169/200\n",
      "50000/50000 [==============================] - 1s 22us/step - loss: 0.0038 - val_loss: 0.0038\n",
      "Epoch 170/200\n",
      "50000/50000 [==============================] - 1s 22us/step - loss: 0.0038 - val_loss: 0.0038\n",
      "Epoch 171/200\n",
      "50000/50000 [==============================] - 1s 21us/step - loss: 0.0038 - val_loss: 0.0038\n",
      "Epoch 172/200\n",
      "50000/50000 [==============================] - 1s 24us/step - loss: 0.0038 - val_loss: 0.0038\n",
      "Epoch 173/200\n",
      "50000/50000 [==============================] - 1s 25us/step - loss: 0.0038 - val_loss: 0.0038\n",
      "Epoch 174/200\n",
      "50000/50000 [==============================] - 1s 21us/step - loss: 0.0038 - val_loss: 0.0038\n",
      "Epoch 175/200\n",
      "50000/50000 [==============================] - 1s 22us/step - loss: 0.0038 - val_loss: 0.0038\n",
      "Epoch 176/200\n",
      "50000/50000 [==============================] - 1s 22us/step - loss: 0.0038 - val_loss: 0.0038\n",
      "Epoch 177/200\n",
      "50000/50000 [==============================] - 1s 22us/step - loss: 0.0038 - val_loss: 0.0038\n",
      "Epoch 178/200\n",
      "50000/50000 [==============================] - 1s 23us/step - loss: 0.0038 - val_loss: 0.0038\n",
      "Epoch 179/200\n",
      "50000/50000 [==============================] - 1s 22us/step - loss: 0.0038 - val_loss: 0.0038\n",
      "Epoch 180/200\n",
      "50000/50000 [==============================] - 1s 24us/step - loss: 0.0038 - val_loss: 0.0038\n",
      "Epoch 181/200\n",
      "50000/50000 [==============================] - 1s 23us/step - loss: 0.0038 - val_loss: 0.0038\n",
      "Epoch 182/200\n",
      "50000/50000 [==============================] - 1s 24us/step - loss: 0.0038 - val_loss: 0.0038\n",
      "Epoch 183/200\n",
      "50000/50000 [==============================] - 1s 22us/step - loss: 0.0038 - val_loss: 0.0038\n",
      "Epoch 184/200\n",
      "50000/50000 [==============================] - 1s 22us/step - loss: 0.0038 - val_loss: 0.0038\n",
      "Epoch 185/200\n",
      "50000/50000 [==============================] - 1s 25us/step - loss: 0.0038 - val_loss: 0.0038\n",
      "Epoch 186/200\n",
      "50000/50000 [==============================] - 1s 22us/step - loss: 0.0038 - val_loss: 0.0038\n",
      "Epoch 187/200\n",
      "50000/50000 [==============================] - 1s 22us/step - loss: 0.0038 - val_loss: 0.0038\n",
      "Epoch 188/200\n",
      "50000/50000 [==============================] - 1s 22us/step - loss: 0.0038 - val_loss: 0.0037\n",
      "Epoch 189/200\n",
      "50000/50000 [==============================] - 1s 21us/step - loss: 0.0038 - val_loss: 0.0037\n",
      "Epoch 190/200\n",
      "50000/50000 [==============================] - 1s 22us/step - loss: 0.0038 - val_loss: 0.0037\n",
      "Epoch 191/200\n",
      "50000/50000 [==============================] - 1s 22us/step - loss: 0.0038 - val_loss: 0.0037\n",
      "Epoch 192/200\n",
      "50000/50000 [==============================] - 1s 22us/step - loss: 0.0038 - val_loss: 0.0037\n",
      "Epoch 193/200\n",
      "50000/50000 [==============================] - 1s 21us/step - loss: 0.0038 - val_loss: 0.0037\n",
      "Epoch 194/200\n",
      "50000/50000 [==============================] - 1s 23us/step - loss: 0.0038 - val_loss: 0.0037\n",
      "Epoch 195/200\n",
      "50000/50000 [==============================] - 1s 24us/step - loss: 0.0038 - val_loss: 0.0037\n",
      "Epoch 196/200\n",
      "50000/50000 [==============================] - 1s 24us/step - loss: 0.0038 - val_loss: 0.0037\n",
      "Epoch 197/200\n",
      "50000/50000 [==============================] - 1s 22us/step - loss: 0.0038 - val_loss: 0.0037\n",
      "Epoch 198/200\n",
      "50000/50000 [==============================] - 1s 22us/step - loss: 0.0038 - val_loss: 0.0037\n",
      "Epoch 199/200\n",
      "50000/50000 [==============================] - 1s 22us/step - loss: 0.0038 - val_loss: 0.0037\n",
      "Epoch 200/200\n",
      "50000/50000 [==============================] - 1s 23us/step - loss: 0.0038 - val_loss: 0.0037\n"
     ]
    },
    {
     "data": {
      "text/plain": [
       "<tensorflow.python.keras.callbacks.History at 0x1eb2a548ba8>"
      ]
     },
     "execution_count": 20,
     "metadata": {},
     "output_type": "execute_result"
    }
   ],
   "source": [
    "autoencoder.fit(x_train, x_train,\n",
    "                epochs=200,\n",
    "                batch_size=256,\n",
    "                shuffle=True,\n",
    "                validation_data=(x_val, x_val))"
   ]
  },
  {
   "cell_type": "code",
   "execution_count": 21,
   "metadata": {
    "collapsed": true
   },
   "outputs": [],
   "source": [
    "layer_name = 'encoder'\n",
    "encoder = Model(inputs=autoencoder.input, outputs=autoencoder.get_layer(layer_name).output)\n",
    "encoded_imgs = encoder.predict(x_test)\n",
    "\n",
    "layer_name = 'decoder'\n",
    "decoder = Model(inputs=autoencoder.input, outputs=autoencoder.get_layer(layer_name).output)\n",
    "decoded_imgs = decoder.predict(x_test)"
   ]
  },
  {
   "cell_type": "code",
   "execution_count": 23,
   "metadata": {},
   "outputs": [
    {
     "data": {
      "image/png": "[encoded data removed]",
      "text/plain": [
       "<matplotlib.figure.Figure at 0x1eb2b4f16d8>"
      ]
     },
     "metadata": {},
     "output_type": "display_data"
    }
   ],
   "source": [
    "# number of images to plot\n",
    "n = 10\n",
    "plt.figure(figsize=(20, 4))\n",
    "for i in range(n):\n",
    "    index = random.randint(0,len(x_test))\n",
    "    # Display original\n",
    "    ax = plt.subplot(2, n, i + 1)\n",
    "    plt.imshow(x_test[index].reshape(28, 28))\n",
    "    plt.gray()\n",
    "    ax.get_xaxis().set_visible(False)\n",
    "    ax.get_yaxis().set_visible(False)\n",
    "\n",
    "    # Display reconstruction\n",
    "    ax = plt.subplot(2, n, i + 1 + n)\n",
    "    plt.imshow(decoded_imgs[index].reshape(28, 28))\n",
    "    plt.gray()\n",
    "    ax.get_xaxis().set_visible(False)\n",
    "    ax.get_yaxis().set_visible(False)\n",
    "plt.show()"
   ]
  },
  {
   "cell_type": "code",
   "execution_count": null,
   "metadata": {
    "collapsed": true
   },
   "outputs": [],
   "source": []
  },
  {
   "cell_type": "markdown",
   "metadata": {},
   "source": [
    "# Denoising AutoEncoder"
   ]
  },
  {
   "cell_type": "code",
   "execution_count": 25,
   "metadata": {
    "collapsed": true
   },
   "outputs": [],
   "source": [
    "x_train = x_train.astype('float32') / 255.\n",
    "x_test = x_test.astype('float32') / 255.\n",
    "x_train = np.reshape(x_train, (len(x_train), 28, 28, 1))\n",
    "x_test = np.reshape(x_test, (len(x_test), 28, 28, 1))\n",
    "\n",
    "noise_factor = 0.5\n",
    "x_train_noisy = x_train + noise_factor * np.random.normal(loc=0.0, scale=1.0, size=x_train.shape) \n",
    "x_test_noisy = x_test + noise_factor * np.random.normal(loc=0.0, scale=1.0, size=x_test.shape) \n",
    "\n",
    "x_train_noisy = np.clip(x_train_noisy, 0., 1.)\n",
    "x_test_noisy = np.clip(x_test_noisy, 0., 1.)"
   ]
  },
  {
   "cell_type": "code",
   "execution_count": 26,
   "metadata": {},
   "outputs": [
    {
     "data": {
      "image/png": "[encoded data removed]",
      "text/plain": [
       "<matplotlib.figure.Figure at 0x1eb2b4d1ef0>"
      ]
     },
     "metadata": {},
     "output_type": "display_data"
    }
   ],
   "source": [
    "n = 10\n",
    "plt.figure(figsize=(20, 2))\n",
    "for i in range(1, n + 1):\n",
    "    ax = plt.subplot(1, n, i)\n",
    "    plt.imshow(x_test_noisy[i].reshape(28, 28))\n",
    "    plt.gray()\n",
    "    ax.get_xaxis().set_visible(False)\n",
    "    ax.get_yaxis().set_visible(False)\n",
    "plt.show()"
   ]
  },
  {
   "cell_type": "code",
   "execution_count": 32,
   "metadata": {
    "collapsed": true
   },
   "outputs": [],
   "source": [
    "def AutoEncoder(input_shape=(28,28,1)):\n",
    "    \n",
    "    # Input Image\n",
    "    X_input = Input(shape=input_shape,name = \"input\")\n",
    "    \n",
    "    X = Conv2D(32, (3,3), activation='relu', padding='same', name=\"conv0\")(X_input)\n",
    "    X = MaxPooling2D((2,2), padding='same', name = 'max0')(X)\n",
    "    X = Conv2D(32, (3,3), activation='relu', padding='same', name=\"conv1\")(X)\n",
    "    encoded = MaxPooling2D((2,2), padding='same', name = 'encoded')(X)\n",
    "    \n",
    "    X = Conv2D(32, (3,3), activation='relu', padding='same', name=\"conv2\")(encoded)\n",
    "    X = UpSampling2D((2,2), name = 'upsample0')(X)\n",
    "    X = Conv2D(32, (3,3), activation='relu', padding='same', name=\"conv3\")(X)\n",
    "    X = UpSampling2D((2,2), name = 'upsample1')(X)\n",
    "    decoded = Conv2D(1, (3, 3), activation='sigmoid', padding='same', name=\"decoded\")(X)\n",
    "    \n",
    "    # Model that maps input to its reconstruction\n",
    "    model = Model(inputs = X_input, outputs = decoded, name='AutoEncoder')\n",
    "\n",
    "    return model"
   ]
  },
  {
   "cell_type": "code",
   "execution_count": 35,
   "metadata": {
    "collapsed": true
   },
   "outputs": [],
   "source": [
    "autoencoder = AutoEncoder()"
   ]
  },
  {
   "cell_type": "code",
   "execution_count": 36,
   "metadata": {},
   "outputs": [
    {
     "name": "stdout",
     "output_type": "stream",
     "text": [
      "_________________________________________________________________\n",
      "Layer (type)                 Output Shape              Param #   \n",
      "=================================================================\n",
      "input (InputLayer)           (None, 28, 28, 1)         0         \n",
      "_________________________________________________________________\n",
      "conv0 (Conv2D)               (None, 28, 28, 32)        320       \n",
      "_________________________________________________________________\n",
      "max0 (MaxPooling2D)          (None, 14, 14, 32)        0         \n",
      "_________________________________________________________________\n",
      "conv1 (Conv2D)               (None, 14, 14, 32)        9248      \n",
      "_________________________________________________________________\n",
      "encoded (MaxPooling2D)       (None, 7, 7, 32)          0         \n",
      "_________________________________________________________________\n",
      "conv2 (Conv2D)               (None, 7, 7, 32)          9248      \n",
      "_________________________________________________________________\n",
      "upsample0 (UpSampling2D)     (None, 14, 14, 32)        0         \n",
      "_________________________________________________________________\n",
      "conv3 (Conv2D)               (None, 14, 14, 32)        9248      \n",
      "_________________________________________________________________\n",
      "upsample1 (UpSampling2D)     (None, 28, 28, 32)        0         \n",
      "_________________________________________________________________\n",
      "decoded (Conv2D)             (None, 28, 28, 1)         289       \n",
      "=================================================================\n",
      "Total params: 28,353\n",
      "Trainable params: 28,353\n",
      "Non-trainable params: 0\n",
      "_________________________________________________________________\n"
     ]
    }
   ],
   "source": [
    "autoencoder.summary()"
   ]
  },
  {
   "cell_type": "code",
   "execution_count": 37,
   "metadata": {
    "collapsed": true
   },
   "outputs": [],
   "source": [
    "autoencoder.compile(optimizer = 'adam' , loss = 'binary_crossentropy')"
   ]
  },
  {
   "cell_type": "code",
   "execution_count": null,
   "metadata": {},
   "outputs": [
    {
     "name": "stdout",
     "output_type": "stream",
     "text": [
      "Train on 50000 samples, validate on 10000 samples\n",
      "Epoch 1/100\n",
      "50000/50000 [==============================] - 108s 2ms/step - loss: 2.3840e-04 - val_loss: 1.6345e-04\n",
      "Epoch 2/100\n",
      "50000/50000 [==============================] - 104s 2ms/step - loss: 1.2468e-04 - val_loss: 9.4975e-05\n",
      "Epoch 3/100\n",
      "50000/50000 [==============================] - 100s 2ms/step - loss: 7.8641e-05 - val_loss: 6.5582e-05\n",
      "Epoch 4/100\n",
      "50000/50000 [==============================] - 102s 2ms/step - loss: 5.7653e-05 - val_loss: 5.1147e-05\n",
      "Epoch 5/100\n",
      "50000/50000 [==============================] - 114s 2ms/step - loss: 4.6810e-05 - val_loss: 4.3261e-05\n",
      "Epoch 6/100\n",
      "50000/50000 [==============================] - 105s 2ms/step - loss: 4.0657e-05 - val_loss: 3.8600e-05\n",
      "Epoch 7/100\n",
      "50000/50000 [==============================] - 93s 2ms/step - loss: 3.6919e-05 - val_loss: 3.5684e-05\n",
      "Epoch 8/100\n",
      "50000/50000 [==============================] - 92s 2ms/step - loss: 3.4528e-05 - val_loss: 3.3782e-05\n",
      "Epoch 9/100\n",
      "50000/50000 [==============================] - 93s 2ms/step - loss: 3.2943e-05 - val_loss: 3.2498e-05\n",
      "Epoch 10/100\n",
      "50000/50000 [==============================] - 91s 2ms/step - loss: 3.1862e-05 - val_loss: 3.1611e-05\n",
      "Epoch 11/100\n",
      "50000/50000 [==============================] - 91s 2ms/step - loss: 3.1105e-05 - val_loss: 3.0985e-05\n",
      "Epoch 12/100\n",
      "50000/50000 [==============================] - 91s 2ms/step - loss: 3.0568e-05 - val_loss: 3.0536e-05\n",
      "Epoch 13/100\n",
      "50000/50000 [==============================] - 91s 2ms/step - loss: 3.0179e-05 - val_loss: 3.0210e-05\n",
      "Epoch 14/100\n",
      "50000/50000 [==============================] - 91s 2ms/step - loss: 2.9896e-05 - val_loss: 2.9970e-05\n",
      "Epoch 15/100\n",
      "50000/50000 [==============================] - 91s 2ms/step - loss: 2.9687e-05 - val_loss: 2.9792e-05\n",
      "Epoch 16/100\n",
      "50000/50000 [==============================] - 91s 2ms/step - loss: 2.9530e-05 - val_loss: 2.9659e-05\n",
      "Epoch 17/100\n",
      "50000/50000 [==============================] - 98s 2ms/step - loss: 2.9413e-05 - val_loss: 2.9560e-05\n",
      "Epoch 18/100\n",
      "50000/50000 [==============================] - 101s 2ms/step - loss: 2.9325e-05 - val_loss: 2.9485e-05\n",
      "Epoch 19/100\n",
      "50000/50000 [==============================] - 101s 2ms/step - loss: 2.9259e-05 - val_loss: 2.9428e-05\n",
      "Epoch 20/100\n",
      "50000/50000 [==============================] - 100s 2ms/step - loss: 2.9209e-05 - val_loss: 2.9386e-05\n",
      "Epoch 21/100\n",
      "50000/50000 [==============================] - 101s 2ms/step - loss: 2.9170e-05 - val_loss: 2.9353e-05\n",
      "Epoch 22/100\n",
      "50000/50000 [==============================] - 104s 2ms/step - loss: 2.9142e-05 - val_loss: 2.9329e-05\n",
      "Epoch 23/100\n",
      "50000/50000 [==============================] - 101s 2ms/step - loss: 2.9121e-05 - val_loss: 2.9310e-05\n",
      "Epoch 24/100\n",
      "50000/50000 [==============================] - 104s 2ms/step - loss: 2.9104e-05 - val_loss: 2.9296e-05\n",
      "Epoch 25/100\n",
      "50000/50000 [==============================] - 96s 2ms/step - loss: 2.9092e-05 - val_loss: 2.9285e-05\n",
      "Epoch 26/100\n",
      "50000/50000 [==============================] - 95s 2ms/step - loss: 2.9083e-05 - val_loss: 2.9277e-05\n",
      "Epoch 27/100\n",
      "16128/50000 [========>.....................] - ETA: 1:00 - loss: 2.9057e-05"
     ]
    }
   ],
   "source": [
    "from tensorflow.python.keras.callbacks import TensorBoard\n",
    "\n",
    "history = autoencoder.fit(x_train_noisy, x_train,\n",
    "                epochs=100,\n",
    "                batch_size=128,\n",
    "                shuffle=True,\n",
    "                validation_data=(x_test_noisy, x_test),\n",
    "                callbacks=[TensorBoard(log_dir='/tmp/tb', histogram_freq=0, write_graph=False)])"
   ]
  },
  {
   "cell_type": "code",
   "execution_count": null,
   "metadata": {
    "collapsed": true
   },
   "outputs": [],
   "source": [
    "layer_name = 'decoded'\n",
    "decoder = Model(inputs=autoencoder.input, outputs=autoencoder.get_layer(layer_name).output)\n",
    "decoded_imgs = decoder.predict(x_test_noisy)"
   ]
  },
  {
   "cell_type": "code",
   "execution_count": null,
   "metadata": {
    "collapsed": true
   },
   "outputs": [],
   "source": [
    "# number of images to plot\n",
    "n = 10\n",
    "plt.figure(figsize=(20, 4))\n",
    "for i in range(n):\n",
    "    index = random.randint(0,len(x_test))\n",
    "    # Display original\n",
    "    ax = plt.subplot(2, n, i + 1)\n",
    "    plt.imshow(x_test[index].reshape(28, 28))\n",
    "    plt.gray()\n",
    "    ax.get_xaxis().set_visible(False)\n",
    "    ax.get_yaxis().set_visible(False)\n",
    "\n",
    "    # Display reconstruction\n",
    "    ax = plt.subplot(2, n, i + 1 + n)\n",
    "    plt.imshow(decoded_imgs[index].reshape(28, 28))\n",
    "    plt.gray()\n",
    "    ax.get_xaxis().set_visible(False)\n",
    "    ax.get_yaxis().set_visible(False)\n",
    "plt.show()"
   ]
  },
  {
   "cell_type": "code",
   "execution_count": null,
   "metadata": {
    "collapsed": true
   },
   "outputs": [],
   "source": []
  }
 ],
 "metadata": {
  "kernelspec": {
   "display_name": "Python 3",
   "language": "python",
   "name": "python3"
  },
  "language_info": {
   "codemirror_mode": {
    "name": "ipython",
    "version": 3
   },
   "file_extension": ".py",
   "mimetype": "text/x-python",
   "name": "python",
   "nbconvert_exporter": "python",
   "pygments_lexer": "ipython3",
   "version": "3.6.1"
  }
 },
 "nbformat": 4,
 "nbformat_minor": 2
}
